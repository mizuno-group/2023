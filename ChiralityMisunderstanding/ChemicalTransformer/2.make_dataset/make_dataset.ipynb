{
 "cells": [
  {
   "cell_type": "code",
   "execution_count": null,
   "metadata": {},
   "outputs": [],
   "source": [
    "import sys, os\n",
    "import numpy as np\n",
    "import pandas as pd\n",
    "import pickle\n",
    "from tqdm import tqdm\n",
    "import pickle\n",
    "\n",
    "sys.path.append(\"..\")\n",
    "from src.data.buckets import MakeBuckets"
   ]
  },
  {
   "cell_type": "code",
   "execution_count": null,
   "metadata": {},
   "outputs": [],
   "source": [
    "with open(\"../1.make_tokenizer/smiles_tokenizer.pkl\", mode='rb') as f:\n",
    "    tokenizer = pickle.load(f)\n",
    "PAD = tokenizer.pad_token"
   ]
  },
  {
   "cell_type": "code",
   "execution_count": null,
   "metadata": {},
   "outputs": [],
   "source": [
    "# Modify according to your dataset.\n",
    "smiles_zinc_df = pd.read_csv(\"/cddd/220215_zinc_processed.txt\", sep='\\t', index_col=0)\n",
    "random_smiles = smiles_zinc_df['randomized_smiles']\n",
    "canonical_smiles = smiles_zinc_df['canonical_smiles']"
   ]
  },
  {
   "cell_type": "markdown",
   "metadata": {},
   "source": [
    "# Make dataset"
   ]
  },
  {
   "cell_type": "code",
   "execution_count": null,
   "metadata": {},
   "outputs": [],
   "source": [
    "random_tokens = [tokenizer.tokenize(smiles) for smiles in tqdm(smiles_zinc_df['randomized_smiles'])]\n",
    "canonical_tokens = [tokenizer.tokenize(smiles) for smiles in tqdm(smiles_zinc_df['smiles'])]\n",
    "bucket = MakeBuckets([random_tokens, canonical_tokens], [],[], 10, 120, 10, pad_token=PAD, sub_pad_tokens=[], min_n_token=50000, residue='include')\n"
   ]
  },
  {
   "cell_type": "code",
   "execution_count": null,
   "metadata": {},
   "outputs": [],
   "source": [
    "splits = bucket.split([0.9997, 0.0003], split_array=True)\n",
    "for split in splits:\n",
    "    split.shuffle_batch(n_tokens=12500, n_epoch=1)\n",
    "splits[0].save(\"train\")\n",
    "splits[1].save(\"val\")"
   ]
  }
 ],
 "metadata": {
  "interpreter": {
   "hash": "174fa86f18c96e75246d0a2add25d1607af195e64da9df808171ae4ece39d146"
  },
  "kernelspec": {
   "display_name": "Python 3.9.7 64-bit ('pip-env': conda)",
   "name": "python3"
  },
  "language_info": {
   "name": "python",
   "version": ""
  },
  "orig_nbformat": 4,
  "vscode": {
   "interpreter": {
    "hash": "d4d1e4263499bec80672ea0156c357c1ee493ec2b1c70f0acce89fc37c4a6abe"
   }
  }
 },
 "nbformat": 4,
 "nbformat_minor": 2
}