{
 "cells": [
  {
   "cell_type": "code",
   "execution_count": 2,
   "metadata": {},
   "outputs": [],
   "source": [
    "root=\"C:/github/2023/RatDeconvolution\"\n",
    "path_package=\"D:/Gdrive/publication/ratdeconv\""
   ]
  },
  {
   "attachments": {},
   "cell_type": "markdown",
   "metadata": {},
   "source": [
    "## Deconvolution"
   ]
  },
  {
   "cell_type": "code",
   "execution_count": 3,
   "metadata": {},
   "outputs": [],
   "source": [
    "import sys\n",
    "import warnings\n",
    "\n",
    "import pandas as pd\n",
    "import numpy as np\n",
    "import scipy.stats as st\n",
    "import matplotlib.pyplot as plt\n",
    "import seaborn as sns\n",
    "from sklearn.preprocessing import StandardScaler\n",
    "from sklearn.linear_model import LinearRegression\n",
    "from sklearn import metrics\n",
    "\n",
    "sys.path.append(path_package)\n",
    "from deconv.deconv.deconv import Deconvolution\n",
    "\n",
    "plt.rcParams[\"font.size\"] = 22\n",
    "plt.rcParams['font.family'] = 'sans-serif'\n",
    "warnings.simplefilter('ignore')"
   ]
  },
  {
   "cell_type": "code",
   "execution_count": 4,
   "metadata": {},
   "outputs": [],
   "source": [
    "def annotation_sample(df, df_b):\n",
    "    temp = df_b.loc[df.columns.tolist()]\n",
    "    name = temp[\"COMPOUND_NAME\"].tolist()\n",
    "    dose = temp[\"DOSE_LEVEL\"].tolist()\n",
    "    time = temp[\"SACRIFICE_PERIOD\"].tolist()\n",
    "    ind = [f\"{i}_{j}_{k}\" for i, j, k in zip(name, dose, time)]\n",
    "    return ind\n",
    "\n",
    "def estimate(df_mix, df_ref, number=150, trimming=True, trans=\"log2\",norm=[\"quantile\"]):\n",
    "    dat = Deconvolution()\n",
    "    dat.set_data(df_mix, df_ref)\n",
    "    dat.preprocessing_mix(\n",
    "                        trimming=trimming,batch=False,combat=False,\n",
    "                        trans_method=trans,\n",
    "                        norm_method_list=norm)\n",
    "    dat.deg(method=\"ttest\",\n",
    "            sep=\"_\",number=number,limit_CV=1.,limit_FC=1.,log2=True,q_limit=0.05,\n",
    "            intersection=trimming,\n",
    "            plot=True)\n",
    "    dat.preprocessing_ref(\n",
    "            trimming=False,batch=False,combat=False,\n",
    "            trans_method=trans,\n",
    "            norm_method_list=[\"raw\"])\n",
    "    df_ref_processed = dat.get_data()[1]\n",
    "    dat.set_data(df_mix, df_ref_processed)\n",
    "    dat.preprocessing_mix(\n",
    "                        trimming=False,batch=False,combat=False,\n",
    "                        trans_method=trans,\n",
    "                        norm_method_list=norm)    \n",
    "    dat.fit(method=\"elasticnet\")\n",
    "    df_res = dat.get_res()\n",
    "    return df_res\n"
   ]
  },
  {
   "cell_type": "code",
   "execution_count": 6,
   "metadata": {},
   "outputs": [
    {
     "name": "stdout",
     "output_type": "stream",
     "text": [
      "(13323, 645)\n"
     ]
    }
   ],
   "source": [
    "# load transcriptome\n",
    "df_target = pd.read_csv(f\"{root}/data/tggate_transcriptome.csv\",index_col=0)\n",
    "df_sample = pd.read_csv(f\"{root}/data/tggate_sample_information.csv\",index_col=0)\n",
    "df_target.columns=[str(i) for i in df_target.columns]\n",
    "df_sample.index=[str(i) for i in df_sample.index]\n",
    "df_target.columns = annotation_sample(df_target, df_sample)\n",
    "print(df_target.shape)\n",
    "\n",
    "# load ref raw file\n",
    "df_ref = pd.read_csv(f\"{root}/data/rnaseq_reference.csv\", index_col=0)\n",
    "df_ref = df_ref.loc[:,[\n",
    "    'B_1', 'B_2', 'B_3', 'B_4', 'B_5', 'B_6', \n",
    "    'CD4T_1', 'CD4T_2', 'CD4T_3', 'CD4T_4', 'CD4T_5', 'CD4T_6',\n",
    "    'CD8T_1', 'CD8T_2', 'CD8T_3', 'CD8T_4', 'CD8T_5', 'CD8T_6', \n",
    "    'NK_1', 'NK_2', 'NK_3', 'NK_4', 'NK_5', 'NK_6',\n",
    "    'Mon_1', 'Mon_2', 'Mon_3', 'Mon_4', 'Mon_5', \n",
    "    'Mon_6', 'Neu_1', 'Neu_2', 'Neu_3', 'Neu_4', 'Neu_5', 'Neu_6', \n",
    "]]"
   ]
  },
  {
   "cell_type": "code",
   "execution_count": null,
   "metadata": {},
   "outputs": [],
   "source": [
    "df_res = estimate(df_target, df_ref, number=200, trimming=True, trans=\"log2\",norm=[\"quantile\"])\n",
    "df_res.to_csv(f\"{root}/result/tggate_result.csv\")"
   ]
  },
  {
   "attachments": {},
   "cell_type": "markdown",
   "metadata": {},
   "source": [
    "## Evaluation"
   ]
  },
  {
   "cell_type": "code",
   "execution_count": null,
   "metadata": {},
   "outputs": [],
   "source": []
  }
 ],
 "metadata": {
  "kernelspec": {
   "display_name": "immune",
   "language": "python",
   "name": "python3"
  },
  "language_info": {
   "codemirror_mode": {
    "name": "ipython",
    "version": 3
   },
   "file_extension": ".py",
   "mimetype": "text/x-python",
   "name": "python",
   "nbconvert_exporter": "python",
   "pygments_lexer": "ipython3",
   "version": "3.9.12"
  },
  "orig_nbformat": 4,
  "vscode": {
   "interpreter": {
    "hash": "e9935c1ea34a3ec68254f4e260745b72abcccb0342a35c2feddd1d53e2c02b0d"
   }
  }
 },
 "nbformat": 4,
 "nbformat_minor": 2
}
