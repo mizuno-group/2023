{
 "cells": [
  {
   "cell_type": "code",
   "execution_count": 10,
   "metadata": {},
   "outputs": [],
   "source": [
    "import warnings\n",
    "import copy\n",
    "import glob\n",
    "\n",
    "import pandas as pd\n",
    "import numpy as np\n",
    "import matplotlib\n",
    "import matplotlib.pyplot as plt\n",
    "import seaborn as sns\n",
    "from sklearn import metrics\n",
    "from scipy import stats\n",
    "from sklearn.linear_model import LinearRegression\n",
    "\n",
    "plt.rcParams['font.family'] = 'sans-serif'\n",
    "plt.rcParams[\"font.size\"] = 22\n",
    "warnings.simplefilter('ignore')"
   ]
  },
  {
   "cell_type": "code",
   "execution_count": 15,
   "metadata": {},
   "outputs": [],
   "source": [
    "lst_file = glob.glob(r\"D:/Gdrive/notebook/2004_Transcriptome_Deconvolution/211122_validation_test/220704_FACS_analysis/data/*.csv\")\n",
    "lst_file = [i for i in lst_file if \"simvastatin\" not in i]\n",
    "lst_file = list(set([i.rsplit(\"_\", 1)[0] for i in lst_file]))\n",
    "df_all = pd.DataFrame()\n",
    "immunes = [\"B\", \"CD4T\", \"CD8T\", \"Mon\", \"Neu\", \"NK\"]\n",
    "\n",
    "comp_lst = []\n",
    "for name in lst_file:\n",
    "    comp = name.split(\"\\\\\")[1].split(\"_\")[0].lower()\n",
    "    comp_lst.append(comp)\n",
    "    time = name.split(\"_\")[-1].split(\"_\")[0].split(\"h\")[0]\n",
    "    df2 = pd.read_csv(f\"{name}_2.csv\", index_col=0)\n",
    "    df = df2.loc[:,immunes]\n",
    "    df.index = [f\"{comp}_{time} hr\" if not \"Ctrl\" in i else f\"{comp}_{time} hr_Ctrl\" for i in df.index.tolist()]\n",
    "    df_all = pd.concat([df, df_all], axis=0)"
   ]
  },
  {
   "cell_type": "code",
   "execution_count": 17,
   "metadata": {},
   "outputs": [],
   "source": [
    "df_all.to_csv(\"C:/github/2023/RatDeconvolution/data/tggate_validation_count.csv\")"
   ]
  }
 ],
 "metadata": {
  "kernelspec": {
   "display_name": "faers",
   "language": "python",
   "name": "python3"
  },
  "language_info": {
   "codemirror_mode": {
    "name": "ipython",
    "version": 3
   },
   "file_extension": ".py",
   "mimetype": "text/x-python",
   "name": "python",
   "nbconvert_exporter": "python",
   "pygments_lexer": "ipython3",
   "version": "3.9.7"
  },
  "orig_nbformat": 4,
  "vscode": {
   "interpreter": {
    "hash": "30f5caea0944f0771bf882728659a5099d1b4abfc0a1fabcb37a5ec5faffce70"
   }
  }
 },
 "nbformat": 4,
 "nbformat_minor": 2
}
