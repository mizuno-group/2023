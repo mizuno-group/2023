{
 "cells": [
  {
   "cell_type": "code",
   "execution_count": null,
   "metadata": {},
   "outputs": [],
   "source": []
  },
  {
   "cell_type": "code",
   "execution_count": null,
   "metadata": {},
   "outputs": [],
   "source": [
    "# ALT thresh\n",
    "df = pd.read_csv(f\"{root}/data/tggate_biochemical_values.csv\", index_col=0)\n",
    "df = df.dropna(how=\"all\",axis=1)\n",
    "df_alt = copy.deepcopy(df)\n",
    "df_alt.columns = [i.rsplit(\"_\", 1)[0] for i in df_alt.columns]\n",
    "df_alt = df_alt.groupby(level=0,axis=1).median()\n",
    "df_alt = df_alt.loc[[\"ALT(IU/L)\"],:]\n",
    "targets = df_alt[df_alt>threshold_alt].dropna(axis=1).columns.tolist()\n",
    "targets = list(set([i.rsplit(\"_\", 1)[0] for i in targets]))\n",
    "print(targets)\n",
    "col = df.columns.tolist()\n",
    "col = set([i.split(\"_rep\")[0] for i in col])\n",
    "targets = list(set([i for i in targets if f\"{i}_3 h\" in col]))\n",
    "target_compounds = list(set([i.split(\"_\")[0] for i in targets]))    \n",
    "\n",
    "# ALT information\n",
    "df_alt = calc_z(df.T, drugs=target_compounds, ctrl=\"ctrl\")\n",
    "df_alt.index = [i.split(\"_rep\")[0] for i in df_alt.index]\n",
    "df_alt = df_alt.loc[:,['ALT(IU/L)',]]\n",
    "df_alt.columns = [\"ALT\",]\n",
    "df_alt.index=[i.split(\" h\")[0] + \" hr\" for i in df_alt.index]\n",
    "df_alt = df_alt.groupby(level=0,axis=0).median()"
   ]
  }
 ],
 "metadata": {
  "language_info": {
   "name": "python"
  },
  "orig_nbformat": 4
 },
 "nbformat": 4,
 "nbformat_minor": 2
}
